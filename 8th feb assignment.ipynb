{
 "cells": [
  {
   "cell_type": "markdown",
   "id": "ea06d216-64b2-4cd2-9f6b-3522a28771e2",
   "metadata": {},
   "source": [
    "Q1. What is Abstraction in OOps? Explain with an example."
   ]
  },
  {
   "cell_type": "markdown",
   "id": "21e4fcd6-a95a-489a-9eb9-05f46ee64af8",
   "metadata": {},
   "source": [
    "answ.1 Abstraction in python is defined as a process of handling complexity by hiding unnecessary information from the user. This is one of the core concepts of object-oriented programming (OOP) languages."
   ]
  },
  {
   "cell_type": "code",
   "execution_count": 4,
   "id": "95689e16-362a-4a8a-9646-f215fe347b46",
   "metadata": {},
   "outputs": [],
   "source": [
    "##ans.1\n",
    "import abc\n",
    "class pwskills:\n",
    "    \n",
    "    @abc.abstractmethod\n",
    "    def student_details(self):\n",
    "        pass\n",
    "    @abc.abstractmethod\n",
    "    def student_assignment(self):\n",
    "        pass\n",
    "    @abc.abstractmethod\n",
    "    def student_marks(self):\n",
    "        pass"
   ]
  },
  {
   "cell_type": "code",
   "execution_count": 2,
   "id": "d69e924e-762b-4fb4-b159-c5b7927cc2dd",
   "metadata": {},
   "outputs": [],
   "source": [
    "class student_details(pwskills):\n",
    "    \n",
    "    def student_details(self):\n",
    "        return('this is student details')\n",
    "    def student_assignment(self):\n",
    "        return('this is student assignment')\n",
    "    "
   ]
  },
  {
   "cell_type": "code",
   "execution_count": 3,
   "id": "d23e5215-9265-4629-8bae-b908b375f703",
   "metadata": {},
   "outputs": [],
   "source": [
    "class pwdatascience_masters(pwskills):\n",
    "    \n",
    "    def student_details(self):\n",
    "        return('this is student detail for pwclass')\n",
    "    def student_assignment(self):\n",
    "        return('this is student assignment for pwclass ')\n",
    "    "
   ]
  },
  {
   "cell_type": "markdown",
   "id": "a842a923-b357-4fd6-909a-70b5f50058df",
   "metadata": {},
   "source": [
    "Q2. Differentiate between Abstraction and Encapsulation. Explain with an example."
   ]
  },
  {
   "cell_type": "markdown",
   "id": "ef869600-82a5-4107-aefd-442d004f29fd",
   "metadata": {},
   "source": [
    "Abstraction is a way of representing some specific data. Encapsulation is a way of hiding the complexity of something and exposing only the parts you wish to expose. For example, if you have a class that has one or more private fields that you use to store the data, then you are in encapsulation"
   ]
  },
  {
   "cell_type": "code",
   "execution_count": 8,
   "id": "363d1d6b-204f-4d67-b070-47ef02830bbe",
   "metadata": {},
   "outputs": [],
   "source": [
    "#example of incapsulation\n",
    "class car:\n",
    "    \n",
    "    def __init__(self,year,make,model,speed):\n",
    "        self.__year=year\n",
    "        self.__make=make\n",
    "        self.__model=model\n",
    "        self.__speed=speed\n",
    "        \n",
    "    def set_speed(self,speed):\n",
    "        self.__speed= 0 if speed < 0 else speed\n",
    "        \n",
    "    def get_speed(self):\n",
    "        return self.__speed"
   ]
  },
  {
   "cell_type": "code",
   "execution_count": null,
   "id": "5098ac24-85db-4603-834d-eff515155e7c",
   "metadata": {},
   "outputs": [],
   "source": [
    "c=car(2021,'ferrari','vs198',180)"
   ]
  },
  {
   "cell_type": "code",
   "execution_count": 7,
   "id": "da4551a1-2f83-4473-b157-0833f18940ae",
   "metadata": {},
   "outputs": [
    {
     "data": {
      "text/plain": [
       "180"
      ]
     },
     "execution_count": 7,
     "metadata": {},
     "output_type": "execute_result"
    }
   ],
   "source": [
    "c.get_speed()"
   ]
  },
  {
   "cell_type": "markdown",
   "id": "586a3bb3-144e-42fb-8be4-93480d909cd9",
   "metadata": {},
   "source": [
    "Q3. What is abc module in python? Why is it used?"
   ]
  },
  {
   "cell_type": "markdown",
   "id": "feb47284-7c4e-4c99-929e-e2d0af2a05c5",
   "metadata": {},
   "source": [
    "ans.3 The 'abc' module in Python library provides the infrastructure for defining custom abstract base classes. 'abc' works by marking methods of the base class as abstract. This is done by @absttractmethod decorator."
   ]
  },
  {
   "cell_type": "markdown",
   "id": "cdfffd1f-a344-4b5d-8adc-eca376d5599a",
   "metadata": {},
   "source": [
    "Q4. How can we achieve data abstraction?"
   ]
  },
  {
   "cell_type": "markdown",
   "id": "d1616f66-14e2-42fd-8216-ac530d8c3d4d",
   "metadata": {},
   "source": [
    "ans.4 Data abstraction is a method where essential elements are displayed to the user and trivial elements are kept hidden. In Java, abstraction is achieved by using the abstract keyword for classes and interfaces. In abstract classes, we can have abstract methods as well as concrete methods."
   ]
  },
  {
   "cell_type": "markdown",
   "id": "ead2be81-7768-435a-8d8b-b3eac905bc4e",
   "metadata": {},
   "source": [
    "Q5. Can we create an instance of an abstract class? Explain your answer."
   ]
  },
  {
   "cell_type": "markdown",
   "id": "268aef4b-21da-4cd6-8225-4d4f2e312614",
   "metadata": {},
   "source": [
    "ans.5 Abstract classes are not complete, as they may have some methods that are not defined. So we cannot create an instance or object of an abstract class in Python"
   ]
  },
  {
   "cell_type": "code",
   "execution_count": null,
   "id": "dc491408-1a52-4528-9c39-7ac3c41c3ce8",
   "metadata": {},
   "outputs": [],
   "source": []
  }
 ],
 "metadata": {
  "kernelspec": {
   "display_name": "Python 3 (ipykernel)",
   "language": "python",
   "name": "python3"
  },
  "language_info": {
   "codemirror_mode": {
    "name": "ipython",
    "version": 3
   },
   "file_extension": ".py",
   "mimetype": "text/x-python",
   "name": "python",
   "nbconvert_exporter": "python",
   "pygments_lexer": "ipython3",
   "version": "3.10.8"
  }
 },
 "nbformat": 4,
 "nbformat_minor": 5
}
